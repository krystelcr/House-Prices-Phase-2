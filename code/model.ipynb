{
 "cells": [
  {
   "cell_type": "code",
   "execution_count": 73,
   "metadata": {},
   "outputs": [],
   "source": [
    "import pandas as pd\n",
    "import numpy as np\n",
    "import matplotlib.pyplot as plt\n",
    "import seaborn as sns\n",
    "\n",
    "from sklearn.model_selection import train_test_split, GridSearchCV\n",
    "from sklearn.metrics import mean_squared_error, mean_absolute_error, r2_score\n",
    "from sklearn.ensemble import RandomForestRegressor\n",
    "from sklearn.linear_model import LinearRegression\n"
   ]
  },
  {
   "cell_type": "code",
   "execution_count": 74,
   "metadata": {},
   "outputs": [],
   "source": [
    "# cleaned dataset\n",
    "df = pd.read_csv(\"/Users/sa2/Desktop/TKH/House-Prices-Phase-2/code/cleanedhousing.csv\")\n",
    "\n",
    "# separate features and target\n",
    "X = df.drop(columns=[\"SalePrice\"])\n",
    "y = df[\"SalePrice\"]\n",
    "\n",
    "# Train-test split\n",
    "X_train, X_test, y_train, y_test = train_test_split(X, y, test_size=0.2, random_state=42)"
   ]
  },
  {
   "cell_type": "code",
   "execution_count": 75,
   "metadata": {},
   "outputs": [
    {
     "name": "stdout",
     "output_type": "stream",
     "text": [
      "  RMSE: 35914.39\n",
      "  MAE: 22750.15\n",
      "  R2: 0.83\n",
      "\n"
     ]
    }
   ],
   "source": [
    "# Linear Regression\n",
    "linreg = LinearRegression()\n",
    "linreg.fit(X_train, y_train)\n",
    "lin_preds = linreg.predict(X_test)\n",
    "\n",
    "print(f\"  RMSE: {np.sqrt(mean_squared_error(y_test, lin_preds)):.2f}\")\n",
    "print(f\"  MAE: {mean_absolute_error(y_test, lin_preds):.2f}\")\n",
    "print(f\"  R2: {r2_score(y_test, lin_preds):.2f}\\n\")"
   ]
  },
  {
   "cell_type": "code",
   "execution_count": 76,
   "metadata": {},
   "outputs": [
    {
     "name": "stdout",
     "output_type": "stream",
     "text": [
      "  RMSE: 28755.61\n",
      "  MAE: 18890.08\n",
      "  R2: 0.89\n",
      "\n"
     ]
    }
   ],
   "source": [
    "# Random Forest (baseline)\n",
    "rf = RandomForestRegressor(random_state=42)\n",
    "rf.fit(X_train, y_train)\n",
    "rf_preds = rf.predict(X_test)\n",
    "\n",
    "print(f\"  RMSE: {np.sqrt(mean_squared_error(y_test, rf_preds)):.2f}\")\n",
    "print(f\"  MAE: {mean_absolute_error(y_test, rf_preds):.2f}\")\n",
    "print(f\"  R2: {r2_score(y_test, rf_preds):.2f}\\n\")"
   ]
  },
  {
   "cell_type": "code",
   "execution_count": 77,
   "metadata": {},
   "outputs": [
    {
     "name": "stdout",
     "output_type": "stream",
     "text": [
      "Best RandomForest Params: {'max_depth': 26, 'n_estimators': 115}\n"
     ]
    }
   ],
   "source": [
    "# GridSearchCV for Random Forest\n",
    "param_grid = {\n",
    "    'n_estimators': [100, 113, 114, 115, 116],\n",
    "    'max_depth': [None, 27, 26, 28]\n",
    "}\n",
    "#ran this a few times and got luckyish with numbers choosen\n",
    "\n",
    "grid_search = GridSearchCV(RandomForestRegressor(random_state=42), param_grid, cv=5, scoring='neg_root_mean_squared_error')\n",
    "grid_search.fit(X_train, y_train)\n",
    "\n",
    "print(\"Best RandomForest Params:\", grid_search.best_params_)\n",
    "\n",
    "\n"
   ]
  },
  {
   "cell_type": "code",
   "execution_count": 79,
   "metadata": {},
   "outputs": [
    {
     "name": "stdout",
     "output_type": "stream",
     "text": [
      "  RMSE: 28841.45\n",
      "  MAE: 18935.15\n",
      "  R2: 0.89\n"
     ]
    }
   ],
   "source": [
    "# best RF model \n",
    "best_rf = grid_search.best_estimator_\n",
    "best_preds = best_rf.predict(X_test)\n",
    "\n",
    "print(f\"  RMSE: {np.sqrt(mean_squared_error(y_test, best_preds)):.2f}\")\n",
    "print(f\"  MAE: {mean_absolute_error(y_test, best_preds):.2f}\")\n",
    "print(f\"  R2: {r2_score(y_test, best_preds):.2f}\")"
   ]
  },
  {
   "cell_type": "markdown",
   "metadata": {},
   "source": [
    "Linear Regression:\n",
    "  RMSE: 35914.39\n",
    "  MAE: 22750.15\n",
    "  R2: 0.83\n",
    "\n",
    "RF (Baseline):\n",
    "  RMSE: 28755.61\n",
    "  MAE: 18890.08\n",
    "  R2: 0.89\n",
    "\n",
    "RF (Tuned):\n",
    "  RMSE: 28841.45\n",
    "  MAE: 18935.15\n",
    "  R2: 0.89\n",
    "\n",
    "\n",
    "RMSE (Root Mean Squared Error):\n",
    "- Lower is better\n",
    "RF (Baseline) 7158.78 lower than Linear Regression, mean prediction error is significantly smaller\n",
    "\n",
    "MAE (Mean Absolute Error):\n",
    "- lower is better\n",
    "RF (Baseline) mean absolute error is 3860.07 lower than Linear Regression, its predictions closer to the true values\n",
    "\n",
    "R² Score (Coefficient of Determination):\n",
    "- closer to 1 is best\n",
    "both RF's explain 6% more of the variance compared to Linear Regression\n",
    "\n",
    "\n",
    "The Baseline Random Forest outperforms Linear Regression across all metrics. GridSearchCV showed default parameters were best (n_estimators=100, max_depth=None); Tuning Random Forest with max_depth=26 and n_estimators=115 resulted in slightly worse performance"
   ]
  },
  {
   "cell_type": "code",
   "execution_count": 81,
   "metadata": {},
   "outputs": [
    {
     "name": "stdout",
     "output_type": "stream",
     "text": [
      "Train shape: (1168, 17)\n",
      "Test shape: (1459, 17)\n"
     ]
    }
   ],
   "source": [
    "# cleaned test set (no SalePrice)\n",
    "df_test = pd.read_csv(\"/Users/sa2/Desktop/TKH/House-Prices-Phase-2/code/cleanedhousingtest.csv\")\n",
    "\n",
    "# checking columns match\n",
    "print(\"Train shape:\", X_train.shape)\n",
    "print(\"Test shape:\", df_test.shape)\n",
    "\n",
    "# predict SalePrice using Random Forest\n",
    "test_preds = rf.predict(df_test)\n",
    "\n",
    "# submission dataframe\n",
    "submission = pd.DataFrame({\n",
    "    \"Id\": df_test.index, \n",
    "    \"SalePrice\": test_preds\n",
    "})\n",
    "\n",
    "submission.to_csv(\"rf_submission.csv\", index=False)\n"
   ]
  }
 ],
 "metadata": {
  "kernelspec": {
   "display_name": "base",
   "language": "python",
   "name": "python3"
  },
  "language_info": {
   "codemirror_mode": {
    "name": "ipython",
    "version": 3
   },
   "file_extension": ".py",
   "mimetype": "text/x-python",
   "name": "python",
   "nbconvert_exporter": "python",
   "pygments_lexer": "ipython3",
   "version": "3.12.4"
  }
 },
 "nbformat": 4,
 "nbformat_minor": 2
}
